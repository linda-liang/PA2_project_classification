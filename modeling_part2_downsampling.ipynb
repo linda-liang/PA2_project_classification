{
 "cells": [
  {
   "cell_type": "code",
   "execution_count": 3,
   "id": "5e70ee2b",
   "metadata": {},
   "outputs": [],
   "source": [
    "import pandas as pd\n",
    "import numpy as np\n",
    "import seaborn as sns\n",
    "import matplotlib.pyplot as plt\n",
    "\n",
    "from sklearn.preprocessing import LabelEncoder, MinMaxScaler, StandardScaler\n",
    "from sklearn.model_selection import train_test_split\n",
    "from sklearn.linear_model import LogisticRegression\n",
    "from sklearn.metrics import accuracy_score\n",
    "from sklearn.preprocessing import LabelEncoder\n",
    "\n",
    "pd.options.display.max_columns = 50"
   ]
  },
  {
   "cell_type": "code",
   "execution_count": 4,
   "id": "6efe4579",
   "metadata": {},
   "outputs": [],
   "source": [
    "import warnings\n",
    "warnings.filterwarnings(\"ignore\")"
   ]
  },
  {
   "cell_type": "code",
   "execution_count": 5,
   "id": "a72d2cca",
   "metadata": {},
   "outputs": [],
   "source": [
    "def preprocess_df(file_path):\n",
    "\n",
    "    file_path = 'data.csv'\n",
    "    df = pd.read_csv(file_path)\n",
    "    df = df.drop_duplicates()\n",
    "\n",
    "    columns_to_exclude_max = ['sight_left', 'sight_right', 'SGOT_AST', 'gamma_GTP']\n",
    "    for column in columns_to_exclude_max:\n",
    "        df = df[df[column] != df[column].max()]\n",
    "\n",
    "    sus_columns = ['waistline', 'BLDS', 'tot_chole', 'HDL_chole', 'LDL_chole', 'triglyceride', 'serum_creatinine', 'SGOT_AST',\n",
    "                   'SGOT_ALT', 'gamma_GTP', 'hemoglobin']\n",
    "\n",
    "    # Initialize a mask to select all rows initially\n",
    "    mask = pd.Series([True] * df.shape[0])\n",
    "\n",
    "    for column in sus_columns:\n",
    "        # Calculate Q1 (25th percentile) and Q3 (75th percentile)\n",
    "        Q1 = df[column].quantile(0.25)\n",
    "        Q3 = df[column].quantile(0.75)\n",
    "        IQR = Q3 - Q1\n",
    "\n",
    "        # Define the bounds for the outliers\n",
    "        lower_bound = Q1 - 1.5 * IQR\n",
    "        upper_bound = Q3 + 1.5 * IQR\n",
    "\n",
    "        # Update the mask to identify rows that are not outliers in the current column\n",
    "        mask = mask & (df[column] >= lower_bound) & (df[column] <= upper_bound)\n",
    "\n",
    "    # Apply the mask to filter out the outliers\n",
    "    df = df[mask]\n",
    "\n",
    "    df['BMI'] = df['weight'] / ((df['height'] / 100) ** 2)\n",
    "    df['BMI_Category'] = pd.cut(df['BMI'], bins=[0, 18.5, 25, 30, float('inf')], labels=['0', '1', '2', '3'])\n",
    "    df['MAP'] = df['DBP'] + (df['SBP'] - df['DBP']) / 3\n",
    "    df['Liver_Enzyme_Ratio'] = df['SGOT_AST'] / df['SGOT_ALT']\n",
    "    df['Anemia_Indicator'] = (df['hemoglobin'] < 12).astype(int)\n",
    "\n",
    "    smoker_type_mapping = {1.0: 'Non-Smoker', 2.0: 'Former Smoker', 3.0: 'Current Smoker'}\n",
    "    df['Smoker Type'] = df['SMK_stat_type_cd'].map(smoker_type_mapping)\n",
    "    \n",
    "    label_encoder = LabelEncoder()\n",
    "    categorical_columns = ['sex','DRK_YN']  #1:male, 1:Y\n",
    "\n",
    "    # Apply label encoding to each categorical column\n",
    "\n",
    "    for column in categorical_columns:\n",
    "        df[column] = label_encoder.fit_transform(df[column])\n",
    "    columns_to_convert = ['sex','DRK_YN', 'SMK_stat_type_cd', 'urine_protein', 'hear_left', 'hear_right', 'Anemia_Indicator']\n",
    "    df[columns_to_convert] = df[columns_to_convert].astype('int')\n",
    "    df[columns_to_convert] = df[columns_to_convert].astype('category')\n",
    "\n",
    "    return df\n",
    "\n",
    "def encode_and_scale(df):\n",
    "\n",
    "    df['prev_smoker'] = np.where(df['SMK_stat_type_cd'] == 2, 1, 0) #1 for previous smoker\n",
    "    df['prev_smoker'] = df['prev_smoker'].astype('category')\n",
    "    cols_to_drop = [\"Smoker Type\",\n",
    "                         \"BMI_Category\",\n",
    "                         \"DRK_YN\"\n",
    "                         ]\n",
    "    df.drop(columns=cols_to_drop, inplace=True)\n",
    "    numerical_cols = df.select_dtypes(include=['float64', 'int64']).columns\n",
    "    scaler = StandardScaler()\n",
    "    df[numerical_cols] = scaler.fit_transform(df[numerical_cols])\n",
    "    columns_to_convert = df.select_dtypes(include=['category']).columns\n",
    "    df[columns_to_convert] = df[columns_to_convert].astype('int')\n",
    "\n",
    "    return df\n",
    "\n",
    "def get_data(filepath):\n",
    "    return encode_and_scale(preprocess_df(filepath))\n",
    "\n",
    "def split_train_test(df, y, test_size = 0.2):\n",
    "\n",
    "    X = df.drop(columns=[\"prev_smoker\", \"SMK_stat_type_cd\"])\n",
    "    y = df[y]\n",
    "\n",
    "    X_train, X_test, y_train, y_test = train_test_split(X, y, test_size=test_size, random_state=42)\n",
    "\n",
    "    return X_train, X_test, y_train, y_test"
   ]
  },
  {
   "cell_type": "markdown",
   "id": "29f1e576",
   "metadata": {},
   "source": [
    "# Downsample"
   ]
  },
  {
   "cell_type": "code",
   "execution_count": 10,
   "id": "97b640ba",
   "metadata": {},
   "outputs": [],
   "source": [
    "df = get_data('data.csv')\n",
    "X_train, X_test, y_train, y_test = split_train_test(df, y = 'prev_smoker', test_size=0.2)"
   ]
  },
  {
   "cell_type": "code",
   "execution_count": 11,
   "id": "484c1d3e",
   "metadata": {},
   "outputs": [],
   "source": [
    "train_data = pd.concat([X_train, y_train], axis=1)\n",
    "\n",
    "# Separate majority and minority classes\n",
    "majority_class = train_data[train_data.prev_smoker == 0]\n",
    "minority_class = train_data[train_data.prev_smoker == 1]\n",
    "\n",
    "# Downsample majority class\n",
    "majority_downsampled = majority_class.sample(n=len(minority_class), random_state=42)\n",
    "\n",
    "# Combine minority class with downsampled majority class\n",
    "downsampled_data = pd.concat([majority_downsampled, minority_class])\n",
    "\n",
    "# Splitting back into X_train and y_train\n",
    "X_train = downsampled_data.drop('prev_smoker', axis=1)\n",
    "y_train = downsampled_data['prev_smoker']"
   ]
  },
  {
   "cell_type": "markdown",
   "id": "1ec2c332",
   "metadata": {},
   "source": [
    "# Baseline Logistic"
   ]
  },
  {
   "cell_type": "code",
   "execution_count": 12,
   "id": "0ff9a08a",
   "metadata": {},
   "outputs": [
    {
     "name": "stdout",
     "output_type": "stream",
     "text": [
      "accuracy\n",
      "0.6673059411131653\n",
      "              precision    recall  f1-score   support\n",
      "\n",
      "           0       0.98      0.62      0.76    121723\n",
      "           1       0.32      0.92      0.47     23233\n",
      "\n",
      "    accuracy                           0.67    144956\n",
      "   macro avg       0.65      0.77      0.61    144956\n",
      "weighted avg       0.87      0.67      0.71    144956\n",
      "\n"
     ]
    }
   ],
   "source": [
    "from sklearn.linear_model import LogisticRegression\n",
    "from sklearn.metrics import accuracy_score, classification_report\n",
    "\n",
    "model = LogisticRegression(max_iter=1000)\n",
    "model.fit(X_train, y_train)\n",
    "\n",
    "predictions = model.predict(X_test)\n",
    "\n",
    "print('accuracy')\n",
    "print(accuracy_score(y_test, predictions))\n",
    "print(classification_report(y_test, predictions))"
   ]
  },
  {
   "cell_type": "code",
   "execution_count": 15,
   "id": "db9c0ef3",
   "metadata": {},
   "outputs": [
    {
     "data": {
      "text/plain": [
       "prev_smoker\n",
       "0    92088\n",
       "1    92088\n",
       "Name: count, dtype: int64"
      ]
     },
     "execution_count": 15,
     "metadata": {},
     "output_type": "execute_result"
    }
   ],
   "source": [
    "y_train.value_counts()"
   ]
  },
  {
   "cell_type": "code",
   "execution_count": 16,
   "id": "700d42f3",
   "metadata": {},
   "outputs": [
    {
     "name": "stdout",
     "output_type": "stream",
     "text": [
      "               Feature  Coefficient\n",
      "0                  sex     2.783619\n",
      "1                  age     0.364023\n",
      "2               height     0.367268\n",
      "3               weight    -0.260923\n",
      "4            waistline     0.029012\n",
      "5           sight_left     0.033265\n",
      "6          sight_right     0.023813\n",
      "7            hear_left    -0.048487\n",
      "8           hear_right    -0.120055\n",
      "9                  SBP    -0.088340\n",
      "10                 DBP     0.061956\n",
      "11                BLDS     0.049855\n",
      "12           tot_chole    -0.385536\n",
      "13           HDL_chole     0.281108\n",
      "14           LDL_chole     0.348911\n",
      "15        triglyceride     0.130090\n",
      "16          hemoglobin    -0.150023\n",
      "17       urine_protein     0.021629\n",
      "18    serum_creatinine     0.025691\n",
      "19            SGOT_AST     0.025390\n",
      "20            SGOT_ALT     0.010535\n",
      "21           gamma_GTP     0.017220\n",
      "22                 BMI     0.316709\n",
      "23                 MAP    -0.002019\n",
      "24  Liver_Enzyme_Ratio     0.002150\n",
      "25    Anemia_Indicator    -0.351328\n"
     ]
    }
   ],
   "source": [
    "feature_names = X_train.columns\n",
    "coefficients = model.coef_.flatten()\n",
    "\n",
    "coef_summary = pd.DataFrame({'Feature': feature_names, 'Coefficient': coefficients})\n",
    "print(coef_summary)"
   ]
  },
  {
   "cell_type": "code",
   "execution_count": 17,
   "id": "00e9fbd8",
   "metadata": {},
   "outputs": [
    {
     "name": "stdout",
     "output_type": "stream",
     "text": [
      "AUC Score: 0.8168727704324974\n",
      "Optimal Threshold: 0.5607452622525003\n"
     ]
    },
    {
     "data": {
      "image/png": "[encoded data removed]",
      "text/plain": [
       "<Figure size 640x480 with 1 Axes>"
      ]
     },
     "metadata": {},
     "output_type": "display_data"
    }
   ],
   "source": [
    "from sklearn.metrics import roc_curve, roc_auc_score, auc\n",
    "\n",
    "# Get probabilities for the positive class\n",
    "y_probs = model.predict_proba(X_test)[:, 1]\n",
    "# Calculate the AUC score\n",
    "auc_score = roc_auc_score(y_test, y_probs)\n",
    "print(f\"AUC Score: {auc_score}\")\n",
    "# Calculate ROC curve\n",
    "fpr, tpr, thresholds = roc_curve(y_test, y_probs)\n",
    "roc_auc = auc(fpr, tpr)\n",
    "# Find the optimal threshold\n",
    "optimal_idx = np.argmax(tpr - fpr)\n",
    "optimal_threshold = thresholds[optimal_idx]\n",
    "print(f\"Optimal Threshold: {optimal_threshold}\")\n",
    "# Plot of a ROC curve for a specific class\n",
    "plt.figure()\n",
    "plt.plot(fpr, tpr, color='darkorange', lw=2, label='ROC curve (area = %0.2f)' % roc_auc)\n",
    "plt.plot([0, 1], [0, 1], color='navy', lw=2, linestyle='--')\n",
    "plt.xlim([0.0, 1.0])\n",
    "plt.ylim([0.0, 1.05])\n",
    "plt.xlabel('False Positive Rate')\n",
    "plt.ylabel('True Positive Rate')\n",
    "plt.title('Receiver Operating Characteristic (ROC)')\n",
    "plt.legend(loc=\"lower right\")\n",
    "plt.show()"
   ]
  },
  {
   "cell_type": "code",
   "execution_count": 18,
   "id": "b7cc135f",
   "metadata": {},
   "outputs": [
    {
     "name": "stdout",
     "output_type": "stream",
     "text": [
      "accuracy\n",
      "0.6872706200502221\n",
      "              precision    recall  f1-score   support\n",
      "\n",
      "           0       0.97      0.65      0.78    121723\n",
      "           1       0.33      0.90      0.48     23233\n",
      "\n",
      "    accuracy                           0.69    144956\n",
      "   macro avg       0.65      0.77      0.63    144956\n",
      "weighted avg       0.87      0.69      0.73    144956\n",
      "\n"
     ]
    }
   ],
   "source": [
    "y_pred_optimal = (y_probs >= optimal_threshold).astype(int)\n",
    "\n",
    "print('accuracy')\n",
    "print(accuracy_score(y_test, y_pred_optimal))\n",
    "print(classification_report(y_test, y_pred_optimal))"
   ]
  },
  {
   "cell_type": "markdown",
   "id": "466b6019",
   "metadata": {},
   "source": [
    "Accuracy: There's a decrease in overall accuracy to 68.73% from 70.24% before implementing downsampling.\n",
    "\n",
    "Precision (Class 1): The precision for Class 1 remains at 0.33, similar to the performance before downsampling. This metric indicates the proportion of correct predictions out of all predictions made for Class 1 and suggests no change in the model's ability to accurately identify positive cases as such.\n",
    "\n",
    "Recall (Class 1): The recall for Class 1 remains high at 0.90, indicating that the model is very good at identifying the majority of actual Class 1 instances. \n",
    "\n",
    "# Random Forest\n",
    "\n",
    "Do cross validation on a simple tree model to find the optimal tree size for random forest."
   ]
  },
  {
   "cell_type": "code",
   "execution_count": 30,
   "id": "97211381",
   "metadata": {},
   "outputs": [
    {
     "name": "stdout",
     "output_type": "stream",
     "text": [
      "Accuracy: 0.6992880598250504\n",
      "\n",
      "Classification Report:\n",
      "               precision    recall  f1-score   support\n",
      "\n",
      "           0       0.95      0.67      0.79    121723\n",
      "           1       0.33      0.83      0.47     23233\n",
      "\n",
      "    accuracy                           0.70    144956\n",
      "   macro avg       0.64      0.75      0.63    144956\n",
      "weighted avg       0.85      0.70      0.74    144956\n",
      "\n"
     ]
    }
   ],
   "source": [
    "from sklearn.tree import DecisionTreeClassifier\n",
    "from sklearn.metrics import accuracy_score, classification_report\n",
    "\n",
    "dt_model = DecisionTreeClassifier(max_depth=15, random_state=42)\n",
    "dt_model.fit(X_train, y_train)\n",
    "y_pred = dt_model.predict(X_test)\n",
    "print(\"Accuracy:\", accuracy_score(y_test, y_pred))\n",
    "print(\"\\nClassification Report:\\n\", classification_report(y_test, y_pred))"
   ]
  },
  {
   "cell_type": "code",
   "execution_count": 28,
   "id": "56a196af",
   "metadata": {},
   "outputs": [
    {
     "name": "stdout",
     "output_type": "stream",
     "text": [
      "Accuracy: 0.7052277932614035\n",
      "\n",
      "Classification Report:\n",
      "               precision    recall  f1-score   support\n",
      "\n",
      "           0       0.97      0.67      0.79    121723\n",
      "           1       0.34      0.88      0.49     23233\n",
      "\n",
      "    accuracy                           0.71    144956\n",
      "   macro avg       0.65      0.78      0.64    144956\n",
      "weighted avg       0.87      0.71      0.74    144956\n",
      "\n"
     ]
    }
   ],
   "source": [
    "from sklearn.ensemble import RandomForestClassifier\n",
    "from sklearn.metrics import classification_report, accuracy_score\n",
    "\n",
    "rf_model = RandomForestClassifier(n_estimators=500, max_depth = 20, random_state=42)\n",
    "\n",
    "# Fit the model to the training data\n",
    "rf_model.fit(X_train, y_train)\n",
    "# Make predictions on the test set\n",
    "y_pred = rf_model.predict(X_test)\n",
    "\n",
    "# Evaluate the model\n",
    "print(\"Accuracy:\", accuracy_score(y_test, y_pred))\n",
    "print(\"\\nClassification Report:\\n\", classification_report(y_test, y_pred))"
   ]
  },
  {
   "cell_type": "markdown",
   "id": "c13cd601",
   "metadata": {},
   "source": [
    "## Find optimal decision threshold\n",
    "\n",
    "**Method 1: Maximizing the Difference Between TPR and FPR**"
   ]
  },
  {
   "cell_type": "code",
   "execution_count": 31,
   "id": "e18ec36a",
   "metadata": {},
   "outputs": [],
   "source": [
    "y_probs_rf = rf_model.predict_proba(X_test)[:, 1]"
   ]
  },
  {
   "cell_type": "code",
   "execution_count": 32,
   "id": "c5eeecf6",
   "metadata": {},
   "outputs": [
    {
     "name": "stdout",
     "output_type": "stream",
     "text": [
      "AUC Score: 0.8322069823503604\n",
      "Optimal Threshold: 0.5081867941751536\n"
     ]
    },
    {
     "data": {
      "image/png": "[encoded data removed]",
      "text/plain": [
       "<Figure size 640x480 with 1 Axes>"
      ]
     },
     "metadata": {},
     "output_type": "display_data"
    }
   ],
   "source": [
    "fpr, tpr, thresholds = roc_curve(y_test, y_probs_rf)\n",
    "auc_score = roc_auc_score(y_test, y_probs_rf)\n",
    "print(f\"AUC Score: {auc_score}\")\n",
    "# Calculate ROC curve\n",
    "roc_auc = auc(fpr, tpr)\n",
    "# Find the optimal threshold\n",
    "optimal_idx = np.argmax(tpr - fpr)\n",
    "optimal_threshold = thresholds[optimal_idx]\n",
    "print(f\"Optimal Threshold: {optimal_threshold}\")\n",
    "# Plot of a ROC curve for a specific class\n",
    "plt.figure()\n",
    "plt.plot(fpr, tpr, color='darkorange', lw=2, label='ROC curve (area = %0.2f)' % roc_auc)\n",
    "plt.plot([0, 1], [0, 1], color='navy', lw=2, linestyle='--')\n",
    "plt.xlim([0.0, 1.0])\n",
    "plt.ylim([0.0, 1.05])\n",
    "plt.xlabel('False Positive Rate')\n",
    "plt.ylabel('True Positive Rate')\n",
    "plt.title('Receiver Operating Characteristic (ROC)')\n",
    "plt.legend(loc=\"lower right\")\n",
    "plt.show()"
   ]
  },
  {
   "cell_type": "markdown",
   "id": "45bb8e26",
   "metadata": {},
   "source": [
    "**Maximizing the Geometric Mean (G-Mean) of Sensitivity and Specificity**\n",
    "\n",
    "The G-Mean provides a balance between sensitivity and specificity, treating both equally. It is particularly useful when you're dealing with imbalanced classes or when both false positives and false negatives are costly. The geometric mean helps ensure that neither sensitivity nor specificity is disproportionately low."
   ]
  },
  {
   "cell_type": "code",
   "execution_count": 33,
   "id": "6a77a478",
   "metadata": {},
   "outputs": [
    {
     "name": "stdout",
     "output_type": "stream",
     "text": [
      "Best Threshold=0.553302\n"
     ]
    }
   ],
   "source": [
    "# Calculate the G-mean for each threshold, which balances sensitivity and specificity\n",
    "gmeans = np.sqrt(tpr * (1-fpr))\n",
    "\n",
    "# Locate the index of the largest G-mean\n",
    "ix = np.argmax(gmeans)\n",
    "optimal_threshold = thresholds[ix]\n",
    "print('Best Threshold=%f' % (optimal_threshold))"
   ]
  },
  {
   "cell_type": "code",
   "execution_count": 34,
   "id": "8786896f",
   "metadata": {},
   "outputs": [
    {
     "name": "stdout",
     "output_type": "stream",
     "text": [
      "accuracy\n",
      "0.7248889318137918\n",
      "              precision    recall  f1-score   support\n",
      "\n",
      "           0       0.96      0.70      0.81    121723\n",
      "           1       0.35      0.85      0.50     23233\n",
      "\n",
      "    accuracy                           0.72    144956\n",
      "   macro avg       0.66      0.78      0.65    144956\n",
      "weighted avg       0.86      0.72      0.76    144956\n",
      "\n"
     ]
    }
   ],
   "source": [
    "y_pred_optimal = (y_probs_rf >= 0.55).astype(int)\n",
    "\n",
    "print('accuracy')\n",
    "print(accuracy_score(y_test, y_pred_optimal))\n",
    "print(classification_report(y_test, y_pred_optimal))"
   ]
  },
  {
   "cell_type": "code",
   "execution_count": 35,
   "id": "a4c9330f",
   "metadata": {},
   "outputs": [
    {
     "name": "stdout",
     "output_type": "stream",
     "text": [
      "sex: 0.2280132387311814\n",
      "height: 0.08343128505630099\n",
      "hemoglobin: 0.07677467598583604\n",
      "age: 0.05514444749063988\n",
      "serum_creatinine: 0.04616730458150749\n",
      "waistline: 0.044797666127276384\n",
      "weight: 0.04083610360839978\n",
      "gamma_GTP: 0.03782353552981852\n",
      "triglyceride: 0.0336721551244721\n",
      "Liver_Enzyme_Ratio: 0.03217773001539939\n",
      "tot_chole: 0.03149988559771516\n",
      "HDL_chole: 0.031338399123076316\n",
      "LDL_chole: 0.03120762782876203\n",
      "BLDS: 0.029912936013469477\n",
      "MAP: 0.0282228566797137\n",
      "SGOT_ALT: 0.02756607223975123\n",
      "SBP: 0.026473751604841552\n",
      "SGOT_AST: 0.025103811181307313\n",
      "BMI: 0.024426916824508413\n",
      "DBP: 0.023508407675566067\n",
      "sight_left: 0.017375115765007595\n",
      "sight_right: 0.01732041389921768\n",
      "urine_protein: 0.003018407103828822\n",
      "Anemia_Indicator: 0.0017885879092225335\n",
      "hear_left: 0.0012319937717931435\n",
      "hear_right: 0.001166674531387084\n"
     ]
    }
   ],
   "source": [
    "feature_importances = rf_model.feature_importances_\n",
    "features_and_importances = zip(feature_names, feature_importances)\n",
    "\n",
    "# Sorting the features by importance\n",
    "sorted_features_and_importances = sorted(features_and_importances, key=lambda x: x[1], reverse=True)\n",
    "\n",
    "# Printing the sorted features and their importances\n",
    "for feature, importance in sorted_features_and_importances:\n",
    "    print(f\"{feature}: {importance}\")"
   ]
  },
  {
   "cell_type": "markdown",
   "id": "bcae4407",
   "metadata": {},
   "source": [
    "# Comparison Logistic vs Random Forest (Adjusted threshold)\n",
    "\n",
    "**Random Forest (Downsampling Adjusted)**\n",
    "\n",
    "Accuracy: 68.73% \n",
    "\n",
    "Precision (Class 1): 0.33\n",
    "\n",
    "Recall (Class 1): 0.90\n",
    "\n",
    "F1-Score (Class 1): 0.48\n",
    "\n",
    "Macro Avg F1-Score: 0.63\n",
    "\n",
    "Weighted Avg F1-Score: 0.73\n",
    "\n",
    "**Logistic Regression (Downsampling Adjusted)**\n",
    "\n",
    "Accuracy: 72.49%\n",
    "\n",
    "Precision (Class 1): 0.35\n",
    "\n",
    "Recall (Class 1): 0.85\n",
    "\n",
    "F1-Score (Class 1): 0.50\n",
    "\n",
    "Macro Avg F1-Score: 0.65\n",
    "\n",
    "Weighted Avg F1-Score: 0.76\n",
    "\n",
    "\n",
    "**Accuracy**: The Random Forest model shows a notable improvement in accuracy over the Logistic Regression model (72.49% vs. 68.73%).\n",
    "\n",
    "**Precision and Recall for Class 1**: Both models see an improvement in precision for Class 1 with downsampling, with Random Forest slightly outperforming Logistic Regression (0.35 vs. 0.33). Logistic Regression has a higher recall for Class 1 compared to Random Forest (0.90 vs. 0.85), indicating that Logistic Regression is better at identifying the positive Class 1 instances. "
   ]
  },
  {
   "cell_type": "code",
   "execution_count": 36,
   "id": "7efc702e",
   "metadata": {},
   "outputs": [
    {
     "name": "stdout",
     "output_type": "stream",
     "text": [
      "Accuracy\n",
      "0.7136855321614834\n",
      "              precision    recall  f1-score   support\n",
      "\n",
      "           0       0.96      0.68      0.80    121723\n",
      "           1       0.34      0.87      0.49     23233\n",
      "\n",
      "    accuracy                           0.71    144956\n",
      "   macro avg       0.65      0.78      0.65    144956\n",
      "weighted avg       0.86      0.71      0.75    144956\n",
      "\n"
     ]
    }
   ],
   "source": [
    "import xgboost as xgb\n",
    "from sklearn.model_selection import train_test_split\n",
    "from sklearn.metrics import accuracy_score, classification_report\n",
    "# Initialize the XGBoost classifier\n",
    "xgb_clf = xgb.XGBClassifier(use_label_encoder=False, eval_metric='logloss')\n",
    "\n",
    "# Fit the classifier to the training set\n",
    "xgb_clf.fit(X_train, y_train)\n",
    "# Predicting the Test set results\n",
    "y_pred = xgb_clf.predict(X_test)\n",
    "\n",
    "# Calculate the accuracy\n",
    "accuracy = accuracy_score(y_test, y_pred)\n",
    "print(\"Accuracy\")\n",
    "print(accuracy)\n",
    "\n",
    "# Detailed classification report\n",
    "print(classification_report(y_test, y_pred))"
   ]
  },
  {
   "cell_type": "code",
   "execution_count": 37,
   "id": "b28d35d3",
   "metadata": {},
   "outputs": [
    {
     "name": "stdout",
     "output_type": "stream",
     "text": [
      "CV with max_depth=3, min_child_weight=1\n",
      "\tLogLoss 0.48936389731586616 for 57 rounds\n",
      "CV with max_depth=3, min_child_weight=2\n",
      "\tLogLoss 0.48934028849649225 for 57 rounds\n",
      "CV with max_depth=3, min_child_weight=3\n",
      "\tLogLoss 0.4893026945061062 for 69 rounds\n",
      "CV with max_depth=3, min_child_weight=4\n",
      "\tLogLoss 0.4893589327815926 for 59 rounds\n",
      "CV with max_depth=3, min_child_weight=5\n",
      "\tLogLoss 0.4893300057277926 for 57 rounds\n",
      "CV with max_depth=4, min_child_weight=1\n",
      "\tLogLoss 0.48901479143342785 for 25 rounds\n",
      "CV with max_depth=4, min_child_weight=2\n",
      "\tLogLoss 0.48909772238663046 for 28 rounds\n",
      "CV with max_depth=4, min_child_weight=3\n",
      "\tLogLoss 0.4890277240385205 for 36 rounds\n",
      "CV with max_depth=4, min_child_weight=4\n",
      "\tLogLoss 0.48906050875347373 for 27 rounds\n",
      "CV with max_depth=4, min_child_weight=5\n",
      "\tLogLoss 0.48898533007484984 for 26 rounds\n",
      "CV with max_depth=5, min_child_weight=1\n",
      "\tLogLoss 0.4891073569731179 for 19 rounds\n",
      "CV with max_depth=5, min_child_weight=2\n",
      "\tLogLoss 0.4890400294012637 for 19 rounds\n",
      "CV with max_depth=5, min_child_weight=3\n",
      "\tLogLoss 0.48897448479868577 for 21 rounds\n",
      "CV with max_depth=5, min_child_weight=4\n",
      "\tLogLoss 0.48904116309682494 for 20 rounds\n",
      "CV with max_depth=5, min_child_weight=5\n",
      "\tLogLoss 0.48900946962959385 for 20 rounds\n",
      "CV with max_depth=6, min_child_weight=1\n",
      "\tLogLoss 0.4891228177597088 for 16 rounds\n",
      "CV with max_depth=6, min_child_weight=2\n",
      "\tLogLoss 0.48922503024769115 for 13 rounds\n",
      "CV with max_depth=6, min_child_weight=3\n",
      "\tLogLoss 0.48927387474901085 for 15 rounds\n",
      "CV with max_depth=6, min_child_weight=4\n",
      "\tLogLoss 0.48922761474461796 for 13 rounds\n",
      "CV with max_depth=6, min_child_weight=5\n",
      "\tLogLoss 0.4892508620844856 for 16 rounds\n",
      "CV with max_depth=7, min_child_weight=1\n",
      "\tLogLoss 0.4899393632609533 for 12 rounds\n",
      "CV with max_depth=7, min_child_weight=2\n",
      "\tLogLoss 0.4899049301331984 for 12 rounds\n",
      "CV with max_depth=7, min_child_weight=3\n",
      "\tLogLoss 0.4898381067049966 for 11 rounds\n",
      "CV with max_depth=7, min_child_weight=4\n",
      "\tLogLoss 0.4899212953328481 for 11 rounds\n",
      "CV with max_depth=7, min_child_weight=5\n",
      "\tLogLoss 0.48958170844657617 for 12 rounds\n",
      "CV with max_depth=8, min_child_weight=1\n",
      "\tLogLoss 0.49086954565535856 for 10 rounds\n",
      "CV with max_depth=8, min_child_weight=2\n",
      "\tLogLoss 0.49118718678646245 for 10 rounds\n",
      "CV with max_depth=8, min_child_weight=3\n",
      "\tLogLoss 0.49104119406902996 for 10 rounds\n",
      "CV with max_depth=8, min_child_weight=4\n",
      "\tLogLoss 0.490965515165121 for 10 rounds\n",
      "CV with max_depth=8, min_child_weight=5\n",
      "\tLogLoss 0.4909283109810157 for 10 rounds\n",
      "CV with max_depth=9, min_child_weight=1\n",
      "\tLogLoss 0.49283093065584005 for 10 rounds\n",
      "CV with max_depth=9, min_child_weight=2\n",
      "\tLogLoss 0.49281042921962326 for 10 rounds\n",
      "CV with max_depth=9, min_child_weight=3\n",
      "\tLogLoss 0.4923880482239955 for 10 rounds\n",
      "CV with max_depth=9, min_child_weight=4\n",
      "\tLogLoss 0.4925799833191199 for 10 rounds\n",
      "CV with max_depth=9, min_child_weight=5\n",
      "\tLogLoss 0.49202879291405266 for 10 rounds\n",
      "Best params: 5, 3, LogLoss: 0.48897448479868577\n"
     ]
    }
   ],
   "source": [
    "import xgboost as xgb\n",
    "from sklearn.model_selection import train_test_split\n",
    "\n",
    "# Convert the dataset into an optimized data structure called DMatrix\n",
    "dtrain = xgb.DMatrix(X_train, label=y_train)\n",
    "\n",
    "# Define initial best params and MAE\n",
    "params = {\n",
    "    'max_depth': 6,\n",
    "    'min_child_weight': 1,\n",
    "    'eta': .3,\n",
    "    'subsample': 1,\n",
    "    'colsample_bytree': 1,\n",
    "    'objective': 'binary:logistic',\n",
    "}\n",
    "\n",
    "# Define the range of hyperparameters to tune\n",
    "gridsearch_params = [\n",
    "    (max_depth, min_child_weight)\n",
    "    for max_depth in range(3, 10)\n",
    "    for min_child_weight in range(1, 6)\n",
    "]\n",
    "\n",
    "min_logloss = float(\"Inf\")\n",
    "best_params = None\n",
    "for max_depth, min_child_weight in gridsearch_params:\n",
    "    print(\"CV with max_depth={}, min_child_weight={}\".format(\n",
    "                             max_depth,\n",
    "                             min_child_weight))\n",
    "    # Update our parameters\n",
    "    params['max_depth'] = max_depth\n",
    "    params['min_child_weight'] = min_child_weight\n",
    "    # Run CV\n",
    "    cv_results = xgb.cv(\n",
    "        params,\n",
    "        dtrain,\n",
    "        num_boost_round=100,\n",
    "        seed=42,\n",
    "        nfold=5,\n",
    "        metrics={'logloss'},\n",
    "        early_stopping_rounds=10\n",
    "    )\n",
    "    # Update best MAE\n",
    "    mean_logloss = cv_results['test-logloss-mean'].min()\n",
    "    boost_rounds = cv_results['test-logloss-mean'].argmin()\n",
    "    print(\"\\tLogLoss {} for {} rounds\".format(mean_logloss, boost_rounds))\n",
    "    if mean_logloss < min_logloss:\n",
    "        min_logloss = mean_logloss\n",
    "        best_params = (max_depth, min_child_weight)\n",
    "\n",
    "print(\"Best params: {}, {}, LogLoss: {}\".format(best_params[0], best_params[1], min_logloss))"
   ]
  },
  {
   "cell_type": "code",
   "execution_count": 38,
   "id": "26042159",
   "metadata": {},
   "outputs": [
    {
     "name": "stdout",
     "output_type": "stream",
     "text": [
      "[0]\tTest-logloss:0.60483\n",
      "[1]\tTest-logloss:0.56149\n",
      "[2]\tTest-logloss:0.53822\n",
      "[3]\tTest-logloss:0.52494\n",
      "[4]\tTest-logloss:0.51722\n",
      "[5]\tTest-logloss:0.51246\n",
      "[6]\tTest-logloss:0.50968\n",
      "[7]\tTest-logloss:0.50767\n",
      "[8]\tTest-logloss:0.50640\n",
      "[9]\tTest-logloss:0.50551\n",
      "[10]\tTest-logloss:0.50487\n",
      "[11]\tTest-logloss:0.50439\n",
      "[12]\tTest-logloss:0.50402\n",
      "[13]\tTest-logloss:0.50378\n",
      "[14]\tTest-logloss:0.50363\n",
      "[15]\tTest-logloss:0.50346\n",
      "[16]\tTest-logloss:0.50331\n",
      "[17]\tTest-logloss:0.50320\n",
      "[18]\tTest-logloss:0.50314\n",
      "[19]\tTest-logloss:0.50306\n",
      "[20]\tTest-logloss:0.50298\n",
      "[21]\tTest-logloss:0.50295\n",
      "[22]\tTest-logloss:0.50295\n",
      "[23]\tTest-logloss:0.50295\n",
      "[24]\tTest-logloss:0.50292\n",
      "[25]\tTest-logloss:0.50294\n",
      "[26]\tTest-logloss:0.50300\n",
      "[27]\tTest-logloss:0.50305\n",
      "[28]\tTest-logloss:0.50306\n",
      "[29]\tTest-logloss:0.50311\n",
      "[30]\tTest-logloss:0.50311\n",
      "[31]\tTest-logloss:0.50319\n",
      "[32]\tTest-logloss:0.50323\n",
      "[33]\tTest-logloss:0.50325\n",
      "[34]\tTest-logloss:0.50326\n",
      "[35]\tTest-logloss:0.50329\n",
      "[36]\tTest-logloss:0.50332\n",
      "[37]\tTest-logloss:0.50331\n",
      "[38]\tTest-logloss:0.50336\n",
      "[39]\tTest-logloss:0.50339\n",
      "[40]\tTest-logloss:0.50346\n",
      "[41]\tTest-logloss:0.50350\n",
      "[42]\tTest-logloss:0.50351\n",
      "[43]\tTest-logloss:0.50349\n",
      "[44]\tTest-logloss:0.50348\n",
      "[45]\tTest-logloss:0.50352\n",
      "[46]\tTest-logloss:0.50357\n",
      "[47]\tTest-logloss:0.50357\n",
      "[48]\tTest-logloss:0.50358\n",
      "[49]\tTest-logloss:0.50361\n",
      "[50]\tTest-logloss:0.50368\n",
      "[51]\tTest-logloss:0.50372\n",
      "[52]\tTest-logloss:0.50374\n",
      "[53]\tTest-logloss:0.50374\n",
      "[54]\tTest-logloss:0.50375\n",
      "[55]\tTest-logloss:0.50379\n",
      "[56]\tTest-logloss:0.50382\n",
      "[57]\tTest-logloss:0.50387\n",
      "[58]\tTest-logloss:0.50396\n",
      "[59]\tTest-logloss:0.50401\n",
      "[60]\tTest-logloss:0.50408\n",
      "[61]\tTest-logloss:0.50410\n",
      "[62]\tTest-logloss:0.50412\n",
      "[63]\tTest-logloss:0.50417\n",
      "[64]\tTest-logloss:0.50412\n",
      "[65]\tTest-logloss:0.50416\n",
      "[66]\tTest-logloss:0.50416\n",
      "[67]\tTest-logloss:0.50422\n",
      "[68]\tTest-logloss:0.50423\n",
      "[69]\tTest-logloss:0.50423\n",
      "[70]\tTest-logloss:0.50427\n",
      "[71]\tTest-logloss:0.50428\n",
      "[72]\tTest-logloss:0.50431\n",
      "[73]\tTest-logloss:0.50435\n",
      "[74]\tTest-logloss:0.50440\n",
      "Best model trained with logloss: 0.5029178750800577\n"
     ]
    }
   ],
   "source": [
    "best_params = {\n",
    "    'max_depth': 5,\n",
    "    'min_child_weight': 3,\n",
    "    'objective': 'binary:logistic',\n",
    "    'eval_metric': 'logloss',\n",
    "    'use_label_encoder': False\n",
    "}\n",
    "dtrain = xgb.DMatrix(X_train, label=y_train)\n",
    "dtest = xgb.DMatrix(X_test, label=y_test)\n",
    "num_boost_round = 1000  # Starting with a large number and using early stopping\n",
    "early_stopping_rounds = 50  # Stop if no improvement after this many rounds\n",
    "\n",
    "model = xgb.train(\n",
    "    params=best_params,\n",
    "    dtrain=dtrain,\n",
    "    num_boost_round=num_boost_round,\n",
    "    evals=[(dtest, \"Test\")],  # Optional: Include a test set for early stopping\n",
    "    early_stopping_rounds=early_stopping_rounds\n",
    ")\n",
    "\n",
    "print(\"Best model trained with logloss:\", model.best_score)"
   ]
  },
  {
   "cell_type": "code",
   "execution_count": 39,
   "id": "c84dea1f",
   "metadata": {},
   "outputs": [],
   "source": [
    "y_probs_xgb = model.predict(dtest)"
   ]
  },
  {
   "cell_type": "code",
   "execution_count": 40,
   "id": "8a00893a",
   "metadata": {},
   "outputs": [
    {
     "name": "stdout",
     "output_type": "stream",
     "text": [
      "AUC Score: 0.8328270060121868\n",
      "Optimal Threshold: 0.4669676125049591\n"
     ]
    },
    {
     "data": {
      "image/png": "[encoded data removed]",
      "text/plain": [
       "<Figure size 640x480 with 1 Axes>"
      ]
     },
     "metadata": {},
     "output_type": "display_data"
    }
   ],
   "source": [
    "fpr, tpr, thresholds = roc_curve(y_test, y_probs_xgb)\n",
    "auc_score = roc_auc_score(y_test, y_probs_xgb)\n",
    "print(f\"AUC Score: {auc_score}\")\n",
    "# Calculate ROC curve\n",
    "roc_auc = auc(fpr, tpr)\n",
    "# Find the optimal threshold\n",
    "optimal_idx = np.argmax(tpr - fpr)\n",
    "optimal_threshold = thresholds[optimal_idx]\n",
    "print(f\"Optimal Threshold: {optimal_threshold}\")\n",
    "# Plot of a ROC curve for a specific class\n",
    "plt.figure()\n",
    "plt.plot(fpr, tpr, color='darkorange', lw=2, label='ROC curve (area = %0.2f)' % roc_auc)\n",
    "plt.plot([0, 1], [0, 1], color='navy', lw=2, linestyle='--')\n",
    "plt.xlim([0.0, 1.0])\n",
    "plt.ylim([0.0, 1.05])\n",
    "plt.xlabel('False Positive Rate')\n",
    "plt.ylabel('True Positive Rate')\n",
    "plt.title('Receiver Operating Characteristic (ROC)')\n",
    "plt.legend(loc=\"lower right\")\n",
    "plt.show()"
   ]
  },
  {
   "cell_type": "code",
   "execution_count": 41,
   "id": "a606008c",
   "metadata": {},
   "outputs": [
    {
     "name": "stdout",
     "output_type": "stream",
     "text": [
      "Best Threshold=0.544055\n"
     ]
    }
   ],
   "source": [
    "# Calculate the G-mean for each threshold, which balances sensitivity and specificity\n",
    "gmeans = np.sqrt(tpr * (1-fpr))\n",
    "\n",
    "# Locate the index of the largest G-mean\n",
    "ix = np.argmax(gmeans)\n",
    "optimal_threshold = thresholds[ix]\n",
    "print('Best Threshold=%f' % (optimal_threshold))"
   ]
  },
  {
   "cell_type": "code",
   "execution_count": 44,
   "id": "9113d722",
   "metadata": {},
   "outputs": [
    {
     "name": "stdout",
     "output_type": "stream",
     "text": [
      "accuracy\n",
      "0.7287521730732084\n",
      "              precision    recall  f1-score   support\n",
      "\n",
      "           0       0.96      0.71      0.81    121723\n",
      "           1       0.35      0.84      0.50     23233\n",
      "\n",
      "    accuracy                           0.73    144956\n",
      "   macro avg       0.66      0.77      0.66    144956\n",
      "weighted avg       0.86      0.73      0.76    144956\n",
      "\n"
     ]
    }
   ],
   "source": [
    "y_pred_optimal = (y_probs_xgb >= 0.55).astype(int)\n",
    "\n",
    "print('accuracy')\n",
    "print(accuracy_score(y_test, y_pred_optimal))\n",
    "print(classification_report(y_test, y_pred_optimal))"
   ]
  },
  {
   "cell_type": "code",
   "execution_count": 45,
   "id": "00bfb7db",
   "metadata": {},
   "outputs": [
    {
     "data": {
      "text/html": [
       "<div>\n",
       "<style scoped>\n",
       "    .dataframe tbody tr th:only-of-type {\n",
       "        vertical-align: middle;\n",
       "    }\n",
       "\n",
       "    .dataframe tbody tr th {\n",
       "        vertical-align: top;\n",
       "    }\n",
       "\n",
       "    .dataframe thead th {\n",
       "        text-align: right;\n",
       "    }\n",
       "</style>\n",
       "<table border=\"1\" class=\"dataframe\">\n",
       "  <thead>\n",
       "    <tr style=\"text-align: right;\">\n",
       "      <th></th>\n",
       "      <th>Model</th>\n",
       "      <th>Accuracy</th>\n",
       "      <th>Precision (Class 1)</th>\n",
       "      <th>Recall (Class 1)</th>\n",
       "      <th>F1-Score (Class 1)</th>\n",
       "      <th>macro f1</th>\n",
       "      <th>weighted f1</th>\n",
       "    </tr>\n",
       "  </thead>\n",
       "  <tbody>\n",
       "    <tr>\n",
       "      <th>0</th>\n",
       "      <td>Logistic Regression</td>\n",
       "      <td>0.6873</td>\n",
       "      <td>0.33</td>\n",
       "      <td>0.90</td>\n",
       "      <td>0.48</td>\n",
       "      <td>0.63</td>\n",
       "      <td>0.73</td>\n",
       "    </tr>\n",
       "    <tr>\n",
       "      <th>1</th>\n",
       "      <td>Random Forest</td>\n",
       "      <td>0.7249</td>\n",
       "      <td>0.35</td>\n",
       "      <td>0.85</td>\n",
       "      <td>0.50</td>\n",
       "      <td>0.65</td>\n",
       "      <td>0.76</td>\n",
       "    </tr>\n",
       "    <tr>\n",
       "      <th>2</th>\n",
       "      <td>XGBoost</td>\n",
       "      <td>0.7288</td>\n",
       "      <td>0.35</td>\n",
       "      <td>0.84</td>\n",
       "      <td>0.50</td>\n",
       "      <td>0.66</td>\n",
       "      <td>0.76</td>\n",
       "    </tr>\n",
       "  </tbody>\n",
       "</table>\n",
       "</div>"
      ],
      "text/plain": [
       "                 Model  Accuracy  Precision (Class 1)  Recall (Class 1)  \\\n",
       "0  Logistic Regression    0.6873                 0.33              0.90   \n",
       "1        Random Forest    0.7249                 0.35              0.85   \n",
       "2              XGBoost    0.7288                 0.35              0.84   \n",
       "\n",
       "   F1-Score (Class 1)  macro f1  weighted f1  \n",
       "0                0.48      0.63         0.73  \n",
       "1                0.50      0.65         0.76  \n",
       "2                0.50      0.66         0.76  "
      ]
     },
     "execution_count": 45,
     "metadata": {},
     "output_type": "execute_result"
    }
   ],
   "source": [
    "logistic_regression_metrics = {\n",
    "    'Model': 'Logistic Regression',\n",
    "    'Accuracy': 0.6873,\n",
    "    'Precision (Class 1)': 0.33,\n",
    "    'Recall (Class 1)': 0.90,\n",
    "    'F1-Score (Class 1)': 0.48,\n",
    "    'macro f1': 0.63,\n",
    "    'weighted f1': 0.73 \n",
    "}\n",
    "\n",
    "random_forest_metrics = {\n",
    "    'Model': 'Random Forest',\n",
    "    'Accuracy': 0.7249,\n",
    "    'Precision (Class 1)': 0.35,\n",
    "    'Recall (Class 1)': 0.85,\n",
    "    'F1-Score (Class 1)': 0.50,\n",
    "    'macro f1': 0.65,\n",
    "    'weighted f1': 0.76\n",
    "}\n",
    "\n",
    "xgboost_metrics = {\n",
    "    'Model': 'XGBoost',\n",
    "    'Accuracy': 0.7288,\n",
    "    'Precision (Class 1)': 0.35,\n",
    "    'Recall (Class 1)': 0.84,\n",
    "    'F1-Score (Class 1)': 0.50,\n",
    "    'macro f1': 0.66,\n",
    "    'weighted f1': 0.76\n",
    "}\n",
    "\n",
    "# Creating a DataFrame\n",
    "results_df = pd.DataFrame([logistic_regression_metrics, random_forest_metrics, xgboost_metrics])\n",
    "\n",
    "# Displaying the DataFrame for comparison\n",
    "results_df"
   ]
  },
  {
   "cell_type": "markdown",
   "id": "a3668142",
   "metadata": {},
   "source": [
    "XGBoost has the highest overall accuracy (72.88%), closely followed by Random Forest (72.49%), and Logistic Regression trails at 68.73%. \n",
    "\n",
    "All three models have a similar precision for Class 1 (0.35 for both Random Forest and XGBoost, and 0.33 for Logistic Regression). This indicates that the proportion of correct positive predictions out of all positive predictions made for Class 1 is slightly better in ensemble models (Random Forest and XGBoost) than in Logistic Regression.\n",
    "\n",
    "Logistic Regression exhibits the highest recall for Class 1 at 0.90, indicating its superior capability to identify most of the actual Class 1 instances. Random Forest and XGBoost have slightly lower recall values (0.85 and 0.84, respectively), suggesting they miss more true positives than the Logistic Regression model.\n",
    "\n",
    "XGBoost slightly outperforms Random Forest in terms of accuracy and balanced performance across classes as reflected in macro and weighted F1 scores. It strikes a good balance between handling the minority class well (high F1-score for Class 1) while also achieving the highest overall accuracy.\n",
    "\n",
    "Random Forest shows strong performance, closely trailing XGBoost and outperforming Logistic Regression in all metrics except for recall for Class 1.\n",
    "Logistic Regression, while having the lowest accuracy and balanced performance metrics, excels in recall for Class 1, making it a potentially preferable model in scenarios where missing out on Class 1 instances carries a high cost (e.g., in medical diagnoses where false negatives are more detrimental than false positives)."
   ]
  },
  {
   "cell_type": "code",
   "execution_count": null,
   "id": "463e7219",
   "metadata": {},
   "outputs": [],
   "source": []
  }
 ],
 "metadata": {
  "kernelspec": {
   "display_name": "Python 3 (ipykernel)",
   "language": "python",
   "name": "python3"
  },
  "language_info": {
   "codemirror_mode": {
    "name": "ipython",
    "version": 3
   },
   "file_extension": ".py",
   "mimetype": "text/x-python",
   "name": "python",
   "nbconvert_exporter": "python",
   "pygments_lexer": "ipython3",
   "version": "3.11.5"
  }
 },
 "nbformat": 4,
 "nbformat_minor": 5
}
